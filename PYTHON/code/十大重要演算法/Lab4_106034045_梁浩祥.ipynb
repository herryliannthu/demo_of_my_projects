{
 "cells": [
  {
   "cell_type": "markdown",
   "metadata": {},
   "source": [
    "### CS3405 Homework 4 DFT and FFT\n",
    "#### 梁浩祥 106034045\n",
    "##### 1. Implement your own DFT, IDFT, FFT, IFFT\n",
    "##### 2. Extract three data sequences, N=1024, N=4096, N=2**15 from each of violin22k, gtr-nylon22 and pno-cs24k. That is, you have nine input data. Call them v1k, v4k, v32k, g1k, g4k, g32k, p1k, p4k, p32k\n",
    "#### 3. Test your programs by running each of nine sequences thru DFT-->IDFT, DFT-->IFFT, FFT-->IFFT, FFT-->IDFT\n",
    "#### 4. Make sure all are correct and compare the run times."
   ]
  },
  {
   "cell_type": "code",
   "execution_count": 11,
   "metadata": {},
   "outputs": [],
   "source": [
    "%matplotlib inline\n",
    "import matplotlib.pyplot as plt\n",
    "import pylab\n",
    "import numpy as np\n",
    "import math\n",
    "import cmath\n",
    "import scipy.io.wavfile as sw\n",
    "import time"
   ]
  },
  {
   "cell_type": "code",
   "execution_count": 79,
   "metadata": {},
   "outputs": [],
   "source": [
    "def dft(x):\n",
    "    N=len(x)\n",
    "    X=np.array([sum(x*np.array([cmath.exp(-1j*2*cmath.pi*m/N*n) for n in range(N)])) for m in range(N)])\n",
    "    return X\n",
    "def idft(x):\n",
    "    N=len(x)\n",
    "    X=np.array([sum(x*np.array([cmath.exp(1j*2*cmath.pi*m/N*n) for m in range(N)]))/N for n in range(N)])\n",
    "    return X\n",
    "def fft(x):\n",
    "    N = len(x)\n",
    "    Half_N = N // 2\n",
    "    X = np.zeros(N, dtype = complex)\n",
    "    if N == 1:\n",
    "        X[0] = x[0]\n",
    "    else:\n",
    "        X_even = fft(x[0::2]) * Half_N\n",
    "        X_odd = fft(x[1::2]) * Half_N\n",
    "        for m in range(N):\n",
    "            X[m] = X_even[m%Half_N] + X_odd[m%Half_N] * cmath.exp(-1j*2*math.pi*m/N)\n",
    "    return X / N\n",
    "        \n",
    "def __ifft(X):\n",
    "    N = len(X)\n",
    "    Half_N = N // 2\n",
    "    x = np.zeros(N, dtype = complex)\n",
    "    if N == 1:\n",
    "        x[0] = X[0]\n",
    "    else:\n",
    "        x_even = __ifft(X[0::2])\n",
    "        x_odd = __ifft(X[1::2])\n",
    "        for n in range(N):\n",
    "            x[n] = x_even[n%Half_N] + x_odd[n%Half_N] * cmath.exp(1j*2*math.pi*n/N)\n",
    "    return x\n",
    "def ifft(X):\n",
    "    return __ifft(X) / len(X)\n",
    "def verify(a,b,N):\n",
    "    for i in range(1,N):\n",
    "        if (not (((a[2048+i]-b[i].real)**2)**0.5)<0.1):\n",
    "            return False\n",
    "    return True"
   ]
  },
  {
   "cell_type": "markdown",
   "metadata": {},
   "source": [
    "Implement violin22k file using n=1024"
   ]
  },
  {
   "cell_type": "code",
   "execution_count": 97,
   "metadata": {},
   "outputs": [
    {
     "name": "stdout",
     "output_type": "stream",
     "text": [
      "Cost time      (v1k)(DFT-->IDFT): 1.382645606994629\n",
      "Cost time      (v1k)(DFT-->IFFT): 0.6850447654724121\n",
      "Cost time      (v1k)(FFT-->IFFT): 0.035916805267333984\n",
      "Cost time      (v1k)(FFT-->IDFT): 0.7060012817382812\n"
     ]
    }
   ],
   "source": [
    "fs, v1k = sw.read('violin22k.wav')\n",
    "t=time.time()\n",
    "x = dft(v1k[2048:2048+1024])\n",
    "xre = idft(x)\n",
    "t2=time.time()\n",
    "if (verify(v1k,xre,1024)):\n",
    "    print (\"Cost time      (v1k)(DFT-->IDFT):\" ,t2-t)\n",
    "else:\n",
    "    print (\"Error : reconstruct error\")\n",
    "t=time.time()\n",
    "x = dft(v1k[2048:2048+1024])\n",
    "xre = ifft(x)\n",
    "t2=time.time()\n",
    "if (verify(v1k,xre,1024)):\n",
    "    print (\"Cost time      (v1k)(DFT-->IFFT):\" ,t2-t)\n",
    "else:\n",
    "    print (\"Error : reconstruct error\")\n",
    "t=time.time()\n",
    "x = fft(v1k[2048:2048+1024])\n",
    "xre = __ifft(x)\n",
    "t2=time.time()\n",
    "if (verify(v1k,xre,1024)):\n",
    "    print (\"Cost time      (v1k)(FFT-->IFFT):\" ,t2-t)\n",
    "else:\n",
    "    print (\"Error : reconstruct error\")\n",
    "t=time.time()\n",
    "x = fft(v1k[2048:2048+1024]) * len(x)\n",
    "xre = idft(x)\n",
    "t2=time.time()\n",
    "if (verify(v1k,xre,1024)):\n",
    "    print (\"Cost time      (v1k)(FFT-->IDFT):\" ,t2-t)\n",
    "else:\n",
    "    print (\"Error : reconstruct error\")\n"
   ]
  },
  {
   "cell_type": "markdown",
   "metadata": {},
   "source": [
    "Implement violin22k file using n=4096"
   ]
  },
  {
   "cell_type": "code",
   "execution_count": 95,
   "metadata": {
    "scrolled": true
   },
   "outputs": [
    {
     "name": "stdout",
     "output_type": "stream",
     "text": [
      "Cost time      (v4k)(DFT-->IDFT): 19.35226035118103\n",
      "Cost time      (v4k)(DFT-->IFFT): 9.764917850494385\n",
      "Cost time      (v4k)(FFT-->IFFT): 0.13563776016235352\n",
      "Cost time      (v4k)(FFT-->IDFT): 10.061075448989868\n"
     ]
    }
   ],
   "source": [
    "fs, v4k = sw.read('violin22k.wav')\n",
    "R=4096\n",
    "t=time.time()\n",
    "x = dft(v4k[2048:2048+R])\n",
    "xre = idft(x)\n",
    "t2=time.time()\n",
    "if (verify(v1k,xre,R)):\n",
    "    print (\"Cost time      (v4k)(DFT-->IDFT):\" ,t2-t)\n",
    "else:\n",
    "    print (\"Error : reconstruct error\")\n",
    "\n",
    "t=time.time()\n",
    "x = dft(v4k[2048:2048+R])\n",
    "xre = ifft(x)\n",
    "t2=time.time()\n",
    "if (verify(v1k,xre,R)):\n",
    "    print (\"Cost time      (v4k)(DFT-->IFFT):\" ,t2-t)\n",
    "else:\n",
    "    print (\"Error : reconstruct error\")\n",
    "\n",
    "t=time.time()\n",
    "x = fft(v4k[2048:2048+R])\n",
    "xre = __ifft(x)\n",
    "t2=time.time()\n",
    "if (verify(v1k,xre,R)):\n",
    "    print (\"Cost time      (v4k)(FFT-->IFFT):\" ,t2-t)\n",
    "else:\n",
    "    print (\"Error : reconstruct error\")\n",
    "    \n",
    "t=time.time()\n",
    "x = fft(v4k[2048:2048+R]) * len(x)\n",
    "xre = idft(x)\n",
    "t2=time.time()\n",
    "if (verify(v1k,xre,R)):\n",
    "    print (\"Cost time      (v4k)(FFT-->IDFT):\" ,t2-t)\n",
    "else:\n",
    "    print (\"Error : reconstruct error\")"
   ]
  },
  {
   "cell_type": "markdown",
   "metadata": {},
   "source": [
    "Implement violin22k file using n=2**15"
   ]
  },
  {
   "cell_type": "code",
   "execution_count": 96,
   "metadata": {},
   "outputs": [
    {
     "name": "stdout",
     "output_type": "stream",
     "text": [
      "Cost time      (v32k)(DFT-->IDFT): 1246.9222702980042\n",
      "Cost time      (v32k)(DFT-->IFFT): 617.5702366828918\n",
      "Cost time      (v32k)(FFT-->IFFT): 1.2725977897644043\n",
      "Cost time      (v32k)(FFT-->IDFT): 630.991977930069\n"
     ]
    }
   ],
   "source": [
    "fs, v32k = sw.read('violin22k.wav')\n",
    "R=2**15\n",
    "t=time.time()\n",
    "x = dft(v32k[2048:2048+R])\n",
    "xre = idft(x)\n",
    "t2=time.time()\n",
    "if (verify(v1k,xre,R)):\n",
    "    print (\"Cost time      (v32k)(DFT-->IDFT):\" ,t2-t)\n",
    "else:\n",
    "    print (\"Error : reconstruct error\")\n",
    "\n",
    "t=time.time()\n",
    "x = dft(v32k[2048:2048+R])\n",
    "xre = ifft(x)\n",
    "t2=time.time()\n",
    "if (verify(v1k,xre,R)):\n",
    "    print (\"Cost time      (v32k)(DFT-->IFFT):\" ,t2-t)\n",
    "else:\n",
    "    print (\"Error : reconstruct error\")\n",
    "\n",
    "t=time.time()\n",
    "x = fft(v32k[2048:2048+R])\n",
    "xre = __ifft(x)\n",
    "t2=time.time()\n",
    "if (verify(v1k,xre,R)):\n",
    "    print (\"Cost time      (v32k)(FFT-->IFFT):\" ,t2-t)\n",
    "else:\n",
    "    print (\"Error : reconstruct error\")\n",
    "    \n",
    "t=time.time()\n",
    "x = fft(v32k[2048:2048+R]) * len(x)\n",
    "xre = idft(x)\n",
    "t2=time.time()\n",
    "if (verify(v1k,xre,R)):\n",
    "    print (\"Cost time      (v32k)(FFT-->IDFT):\" ,t2-t)\n",
    "else:\n",
    "    print (\"Error : reconstruct error\")"
   ]
  },
  {
   "cell_type": "markdown",
   "metadata": {},
   "source": [
    "Implement gtr-nylon22 file using n=1024"
   ]
  },
  {
   "cell_type": "code",
   "execution_count": 89,
   "metadata": {},
   "outputs": [
    {
     "name": "stdout",
     "output_type": "stream",
     "text": [
      "Cost time      (g1k)(DFT-->IDFT): 1.4560306072235107\n",
      "Cost time      (g1k)(DFT-->IFFT): 0.7640340328216553\n",
      "Cost time      (g1k)(FFT-->IFFT): 0.0359957218170166\n",
      "Cost time      (g1k)(FFT-->IDFT): 0.7799732685089111\n"
     ]
    }
   ],
   "source": [
    "fs, g1k = sw.read('gtr-nylon22.wav')\n",
    "R=1024\n",
    "t=time.time()\n",
    "x = dft(g1k[2048:2048+R])\n",
    "xre = idft(x)\n",
    "t2=time.time()\n",
    "if (verify(g1k,xre,R)):\n",
    "    print (\"Cost time      (g1k)(DFT-->IDFT):\" ,t2-t)\n",
    "else:\n",
    "    print (\"Error : reconstruct error\")\n",
    "\n",
    "t=time.time()\n",
    "x = dft(g1k[2048:2048+R])\n",
    "xre = ifft(x)\n",
    "t2=time.time()\n",
    "if (verify(g1k,xre,R)):\n",
    "    print (\"Cost time      (g1k)(DFT-->IFFT):\" ,t2-t)\n",
    "else:\n",
    "    print (\"Error : reconstruct error\")\n",
    "\n",
    "t=time.time()\n",
    "x = fft(g1k[2048:2048+R])\n",
    "xre = __ifft(x)\n",
    "t2=time.time()\n",
    "if (verify(g1k,xre,R)):\n",
    "    print (\"Cost time      (g1k)(FFT-->IFFT):\" ,t2-t)\n",
    "else:\n",
    "    print (\"Error : reconstruct error\")\n",
    "    \n",
    "t=time.time()\n",
    "x = fft(g1k[2048:2048+R]) * len(x)\n",
    "xre = idft(x)\n",
    "t2=time.time()\n",
    "if (verify(g1k,xre,R)):\n",
    "    print (\"Cost time      (g1k)(FFT-->IDFT):\" ,t2-t)\n",
    "else:\n",
    "    print (\"Error : reconstruct error\")"
   ]
  },
  {
   "cell_type": "markdown",
   "metadata": {},
   "source": [
    "Implement gtr-nylon22 file using n=4096"
   ]
  },
  {
   "cell_type": "code",
   "execution_count": 90,
   "metadata": {},
   "outputs": [
    {
     "name": "stdout",
     "output_type": "stream",
     "text": [
      "Cost time      (g4k)(DFT-->IDFT): 26.776000261306763\n",
      "Cost time      (g4k)(DFT-->IFFT): 12.220002889633179\n",
      "Cost time      (g4k)(FFT-->IFFT): 0.17199134826660156\n",
      "Cost time      (g4k)(FFT-->IDFT): 12.804014921188354\n"
     ]
    }
   ],
   "source": [
    "fs, g4k = sw.read('gtr-nylon22.wav')\n",
    "R= 4096\n",
    "t=time.time()\n",
    "x = dft(g4k[2048:2048+R])\n",
    "xre = idft(x)\n",
    "t2=time.time()\n",
    "if (verify(g4k,xre,R)):\n",
    "    print (\"Cost time      (g4k)(DFT-->IDFT):\" ,t2-t)\n",
    "else:\n",
    "    print (\"Error : reconstruct error\")\n",
    "\n",
    "t=time.time()\n",
    "x = dft(g4k[2048:2048+R])\n",
    "xre = ifft(x)\n",
    "t2=time.time()\n",
    "if (verify(g4k,xre,R)):\n",
    "    print (\"Cost time      (g4k)(DFT-->IFFT):\" ,t2-t)\n",
    "else:\n",
    "    print (\"Error : reconstruct error\")\n",
    "\n",
    "t=time.time()\n",
    "x = fft(g4k[2048:2048+R])\n",
    "xre = __ifft(x)\n",
    "t2=time.time()\n",
    "if (verify(g4k,xre,R)):\n",
    "    print (\"Cost time      (g4k)(FFT-->IFFT):\" ,t2-t)\n",
    "else:\n",
    "    print (\"Error : reconstruct error\")\n",
    "    \n",
    "t=time.time()\n",
    "x = fft(g4k[2048:2048+R]) * len(x)\n",
    "xre = idft(x)\n",
    "t2=time.time()\n",
    "if (verify(g4k,xre,R)):\n",
    "    print (\"Cost time      (g4k)(FFT-->IDFT):\" ,t2-t)\n",
    "else:\n",
    "    print (\"Error : reconstruct error\")"
   ]
  },
  {
   "cell_type": "markdown",
   "metadata": {},
   "source": [
    "Implement gtr-nylon22 file using n=2**15"
   ]
  },
  {
   "cell_type": "code",
   "execution_count": 91,
   "metadata": {},
   "outputs": [
    {
     "name": "stdout",
     "output_type": "stream",
     "text": [
      "Cost time      (g32k)(DFT-->IDFT): 1426.8474249839783\n",
      "Cost time      (g32k)(DFT-->IFFT): 825.7731926441193\n",
      "Cost time      (g32k)(FFT-->IFFT): 1.9839985370635986\n",
      "Cost time      (g32k)(FFT-->IDFT): 803.7169151306152\n"
     ]
    }
   ],
   "source": [
    "fs, g32k = sw.read('gtr-nylon22.wav')\n",
    "R= 2**15\n",
    "t=time.time()\n",
    "x = dft(g32k[2048:2048+R])\n",
    "xre = idft(x)\n",
    "t2=time.time()\n",
    "if (verify(g32k,xre,R)):\n",
    "    print (\"Cost time      (g32k)(DFT-->IDFT):\" ,t2-t)\n",
    "else:\n",
    "    print (\"Error : reconstruct error\")\n",
    "\n",
    "t=time.time()\n",
    "x = dft(g32k[2048:2048+R])\n",
    "xre = ifft(x)\n",
    "t2=time.time()\n",
    "if (verify(g32k,xre,R)):\n",
    "    print (\"Cost time      (g32k)(DFT-->IFFT):\" ,t2-t)\n",
    "else:\n",
    "    print (\"Error : reconstruct error\")\n",
    "\n",
    "t=time.time()\n",
    "x = fft(g32k[2048:2048+R])\n",
    "xre = __ifft(x)\n",
    "t2=time.time()\n",
    "if (verify(g32k,xre,R)):\n",
    "    print (\"Cost time      (g32k)(FFT-->IFFT):\" ,t2-t)\n",
    "else:\n",
    "    print (\"Error : reconstruct error\")\n",
    "    \n",
    "t=time.time()\n",
    "x = fft(g32k[2048:2048+R]) * len(x)\n",
    "xre = idft(x)\n",
    "t2=time.time()\n",
    "if (verify(g32k,xre,R)):\n",
    "    print (\"Cost time      (g32k)(FFT-->IDFT):\" ,t2-t)\n",
    "else:\n",
    "    print (\"Error : reconstruct error\")"
   ]
  },
  {
   "cell_type": "markdown",
   "metadata": {},
   "source": [
    "Implement pno-cs24k file using n=1024"
   ]
  },
  {
   "cell_type": "code",
   "execution_count": 92,
   "metadata": {},
   "outputs": [
    {
     "name": "stdout",
     "output_type": "stream",
     "text": [
      "Cost time      (p1k)(DFT-->IDFT): 1.4240002632141113\n",
      "Cost time      (p1k)(DFT-->IFFT): 0.8199999332427979\n",
      "Cost time      (p1k)(FFT-->IFFT): 0.04002737998962402\n",
      "Cost time      (p1k)(FFT-->IDFT): 0.755974292755127\n"
     ]
    }
   ],
   "source": [
    "fs, p1k = sw.read('pno-cs24k.wav')\n",
    "R= 1024\n",
    "t=time.time()\n",
    "x = dft(p1k[2048:2048+R])\n",
    "xre = idft(x)\n",
    "t2=time.time()\n",
    "if (verify(p1k,xre,R)):\n",
    "    print (\"Cost time      (p1k)(DFT-->IDFT):\" ,t2-t)\n",
    "else:\n",
    "    print (\"Error : reconstruct error\")\n",
    "\n",
    "t=time.time()\n",
    "x = dft(p1k[2048:2048+R])\n",
    "xre = ifft(x)\n",
    "t2=time.time()\n",
    "if (verify(p1k,xre,R)):\n",
    "    print (\"Cost time      (p1k)(DFT-->IFFT):\" ,t2-t)\n",
    "else:\n",
    "    print (\"Error : reconstruct error\")\n",
    "\n",
    "t=time.time()\n",
    "x = fft(p1k[2048:2048+R])\n",
    "xre = __ifft(x)\n",
    "t2=time.time()\n",
    "if (verify(p1k,xre,R)):\n",
    "    print (\"Cost time      (p1k)(FFT-->IFFT):\" ,t2-t)\n",
    "else:\n",
    "    print (\"Error : reconstruct error\")\n",
    "    \n",
    "t=time.time()\n",
    "x = fft(p1k[2048:2048+R]) * len(x)\n",
    "xre = idft(x)\n",
    "t2=time.time()\n",
    "if (verify(p1k,xre,R)):\n",
    "    print (\"Cost time      (p1k)(FFT-->IDFT):\" ,t2-t)\n",
    "else:\n",
    "    print (\"Error : reconstruct error\")"
   ]
  },
  {
   "cell_type": "markdown",
   "metadata": {},
   "source": [
    "Implement pno-cs24k file using n=4096"
   ]
  },
  {
   "cell_type": "code",
   "execution_count": 93,
   "metadata": {},
   "outputs": [
    {
     "name": "stdout",
     "output_type": "stream",
     "text": [
      "Cost time      (p4k)(DFT-->IDFT): 26.07200574874878\n",
      "Cost time      (p4k)(DFT-->IFFT): 11.684001922607422\n",
      "Cost time      (p4k)(FFT-->IFFT): 0.15999889373779297\n",
      "Cost time      (p4k)(FFT-->IDFT): 12.119971513748169\n"
     ]
    }
   ],
   "source": [
    "fs, p4k = sw.read('pno-cs24k.wav')\n",
    "R= 4096\n",
    "t=time.time()\n",
    "x = dft(p4k[2048:2048+R])\n",
    "xre = idft(x)\n",
    "t2=time.time()\n",
    "if (verify(p4k,xre,R)):\n",
    "    print (\"Cost time      (p4k)(DFT-->IDFT):\" ,t2-t)\n",
    "else:\n",
    "    print (\"Error : reconstruct error\")\n",
    "\n",
    "t=time.time()\n",
    "x = dft(p4k[2048:2048+R])\n",
    "xre = ifft(x)\n",
    "t2=time.time()\n",
    "if (verify(p4k,xre,R)):\n",
    "    print (\"Cost time      (p4k)(DFT-->IFFT):\" ,t2-t)\n",
    "else:\n",
    "    print (\"Error : reconstruct error\")\n",
    "\n",
    "t=time.time()\n",
    "x = fft(p4k[2048:2048+R])\n",
    "xre = __ifft(x)\n",
    "t2=time.time()\n",
    "if (verify(p4k,xre,R)):\n",
    "    print (\"Cost time      (p4k)(FFT-->IFFT):\" ,t2-t)\n",
    "else:\n",
    "    print (\"Error : reconstruct error\")\n",
    "    \n",
    "t=time.time()\n",
    "x = fft(p4k[2048:2048+R]) * len(x)\n",
    "xre = idft(x)\n",
    "t2=time.time()\n",
    "if (verify(p4k,xre,R)):\n",
    "    print (\"Cost time      (p4k)(FFT-->IDFT):\" ,t2-t)\n",
    "else:\n",
    "    print (\"Error : reconstruct error\")"
   ]
  },
  {
   "cell_type": "markdown",
   "metadata": {},
   "source": [
    "Implement pno-cs24k file using n=2**15"
   ]
  },
  {
   "cell_type": "code",
   "execution_count": 94,
   "metadata": {},
   "outputs": [
    {
     "name": "stdout",
     "output_type": "stream",
     "text": [
      "Cost time      (p32k)(DFT-->IDFT): 1334.5496907234192\n",
      "Cost time      (p32k)(DFT-->IFFT): 623.0711734294891\n",
      "Cost time      (p32k)(FFT-->IFFT): 1.3035156726837158\n",
      "Cost time      (p32k)(FFT-->IDFT): 632.6290090084076\n"
     ]
    }
   ],
   "source": [
    "fs, p32k = sw.read('pno-cs24k.wav')\n",
    "R= 2**15\n",
    "t=time.time()\n",
    "x = dft(p32k[2048:2048+R])\n",
    "xre = idft(x)\n",
    "t2=time.time()\n",
    "if (verify(p32k,xre,R)):\n",
    "    print (\"Cost time      (p32k)(DFT-->IDFT):\" ,t2-t)\n",
    "else:\n",
    "    print (\"Error : reconstruct error\")\n",
    "\n",
    "t=time.time()\n",
    "x = dft(p32k[2048:2048+R])\n",
    "xre = ifft(x)\n",
    "t2=time.time()\n",
    "if (verify(p32k,xre,R)):\n",
    "    print (\"Cost time      (p32k)(DFT-->IFFT):\" ,t2-t)\n",
    "else:\n",
    "    print (\"Error : reconstruct error\")\n",
    "\n",
    "t=time.time()\n",
    "x = fft(p32k[2048:2048+R])\n",
    "xre = __ifft(x)\n",
    "t2=time.time()\n",
    "if (verify(p32k,xre,R)):\n",
    "    print (\"Cost time      (p32k)(FFT-->IFFT):\" ,t2-t)\n",
    "else:\n",
    "    print (\"Error : reconstruct error\")\n",
    "    \n",
    "t=time.time()\n",
    "x = fft(p32k[2048:2048+R]) * len(x)\n",
    "xre = idft(x)\n",
    "t2=time.time()\n",
    "if (verify(p32k,xre,R)):\n",
    "    print (\"Cost time      (p32k)(FFT-->IDFT):\" ,t2-t)\n",
    "else:\n",
    "    print (\"Error : reconstruct error\")"
   ]
  },
  {
   "cell_type": "markdown",
   "metadata": {},
   "source": [
    "# 比較：\n",
    "* DFT-->IDFT\n",
    "    * Cost time      (p32k)(DFT-->IDFT): 1334.5496907234192\n",
    "    * Cost time      (p4k)(DFT-->IDFT): 26.07200574874878\n",
    "    * Cost time      (p1k)(DFT-->IDFT): 1.4240002632141113\n",
    "    * Cost time      (g32k)(DFT-->IDFT): 1426.8474249839783\n",
    "    * Cost time      (g4k)(DFT-->IDFT): 26.776000261306763\n",
    "    * Cost time      (g1k)(DFT-->IDFT): 1.4560306072235107\n",
    "    * Cost time      (v32k)(DFT-->IDFT): 1246.9222702980042\n",
    "    * Cost time      (v4k)(DFT-->IDFT): 19.35226035118103\n",
    "    * Cost time      (v1k)(DFT-->IDFT): 1.382645606994629\n",
    "    \n",
    "* DFT-->IFFT\n",
    "    * Cost time      (p32k)(DFT-->IFFT): 623.0711734294891\n",
    "    * Cost time      (p4k)(DFT-->IFFT): 11.684001922607422\n",
    "    * Cost time      (p1k)(DFT-->IFFT): 0.8199999332427979\n",
    "    * Cost time      (g32k)(DFT-->IFFT): 825.7731926441193\n",
    "    * Cost time      (g4k)(DFT-->IFFT): 12.220002889633179\n",
    "    * Cost time      (g1k)(DFT-->IFFT): 0.7640340328216553\n",
    "    * Cost time      (v32k)(DFT-->IFFT): 617.5702366828918\n",
    "    * Cost time      (v4k)(DFT-->IFFT): 9.764917850494385\n",
    "    * Cost time      (v1k)(DFT-->IFFT): 0.6850447654724121\n",
    "    \n",
    "* FFT-->IFFT\n",
    "    * Cost time      (p32k)(FFT-->IFFT): 1.3035156726837158\n",
    "    * Cost time      (p4k)(FFT-->IFFT): 0.15999889373779297\n",
    "    * Cost time      (p1k)(FFT-->IFFT): 0.04002737998962402\n",
    "    * Cost time      (g32k)(FFT-->IFFT): 1.9839985370635986\n",
    "    * Cost time      (g4k)(FFT-->IFFT): 0.17199134826660156\n",
    "    * Cost time      (g1k)(FFT-->IFFT): 0.0359957218170166\n",
    "    * Cost time      (v32k)(FFT-->IFFT): 1.2725977897644043\n",
    "    * Cost time      (v4k)(FFT-->IFFT): 0.13563776016235352\n",
    "    * Cost time      (v1k)(FFT-->IFFT): 0.035916805267333984\n",
    "    \n",
    "* FFT-->IDFT\n",
    "    * Cost time      (p32k)(FFT-->IDFT): 632.6290090084076\n",
    "    * Cost time      (p4k)(FFT-->IDFT): 12.119971513748169\n",
    "    * Cost time      (p1k)(FFT-->IDFT): 0.755974292755127\n",
    "    * Cost time      (g32k)(FFT-->IDFT): 803.7169151306152\n",
    "    * Cost time      (g4k)(FFT-->IDFT): 12.804014921188354    \n",
    "    * Cost time      (g1k)(FFT-->IDFT): 0.7799732685089111\n",
    "    * Cost time      (v32k)(FFT-->IDFT): 630.991977930069\n",
    "    * Cost time      (v4k)(FFT-->IDFT): 10.061075448989868\n",
    "    * Cost time      (v1k)(FFT-->IDFT): 0.7060012817382812\n",
    "    \n",
    "由此可以看出檔案的不同對時間並沒有顯著的影響，而時間的消耗為 DFT-->IDFT > DFT-->IFFT = FFT-->IDFT > FFT-->IFFT，\n",
    "且FFT在執行時間上有顯著的減少。難怪FFT可以成為十大重要的演算法。"
   ]
  },
  {
   "cell_type": "code",
   "execution_count": null,
   "metadata": {},
   "outputs": [],
   "source": []
  }
 ],
 "metadata": {
  "kernelspec": {
   "display_name": "Python 3",
   "language": "python",
   "name": "python3"
  },
  "language_info": {
   "codemirror_mode": {
    "name": "ipython",
    "version": 3
   },
   "file_extension": ".py",
   "mimetype": "text/x-python",
   "name": "python",
   "nbconvert_exporter": "python",
   "pygments_lexer": "ipython3",
   "version": "3.6.4"
  }
 },
 "nbformat": 4,
 "nbformat_minor": 2
}
