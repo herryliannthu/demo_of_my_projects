{
 "cells": [
  {
   "cell_type": "code",
   "execution_count": 3,
   "metadata": {},
   "outputs": [],
   "source": [
    "import random\n",
    "import time\n",
    "import sys\n",
    "sys.setrecursionlimit(8000)"
   ]
  },
  {
   "cell_type": "code",
   "execution_count": 4,
   "metadata": {},
   "outputs": [],
   "source": [
    "\n",
    "\n",
    "class NTHUList(list):\n",
    "    def selectSort(self): #O(N^2)\n",
    "        for i in range(len(self)-1): #界線要搞清楚\n",
    "            for j in range(i+1,len(self)):\n",
    "                if self[i] < self[j]:\n",
    "                    self[i],self[j] = self[j],self[i] #python 特殊語法\n",
    "        return\n",
    "\n",
    "    def bubbleSort(self): #O(N^2)\n",
    "        for i in range(1,len(self)): #開始不可為0/長度不可為1\n",
    "            j = i\n",
    "            while j > 0 and self[j] > self[j-1]:\n",
    "                self[j],self[j-1] = self[j-1],self[j]\n",
    "                j = j-1\n",
    "        return\n",
    "\n",
    "    def mergeSort(self): \n",
    "        if len(self) <= 1:\n",
    "            return self\n",
    "        left = NTHUList(self[:len(self)//2]) #// is integer divide\n",
    "        right = NTHUList(self[len(self)//2:]) #不用+1\n",
    "\n",
    "        sortedLeft = left.mergeSort()\n",
    "        sortedRight = right.mergeSort()\n",
    "\n",
    "        returnList = []\n",
    "        ri = 0\n",
    "        li = 0\n",
    "        while ri < len(sortedRight) and li < len(sortedLeft):\n",
    "            if sortedLeft[li] > sortedRight[ri]:\n",
    "                returnList.append(sortedLeft[li])\n",
    "                li+=1\n",
    "            else:\n",
    "                returnList.append(sortedRight[ri])\n",
    "                ri+=1\n",
    "        if ri == len(sortedRight):\n",
    "            returnList.extend(sortedLeft[li:]) #append 是一個 element extend 是一個 list\n",
    "        else:\n",
    "            returnList.extend(sortedRight[ri:])\n",
    "        return returnList\n",
    "\n",
    "    def heapSort(self):\n",
    "        self.heapify() \n",
    "        end = len(self)-1\n",
    "        while end > 0 :\n",
    "            self[0],self[end] = self[end],self[0]\n",
    "            end = end-1\n",
    "            self.shiftdown(0,end)\n",
    "        return\n",
    "\n",
    "    def heapify(self):\n",
    "        for i in range(len(self)):\n",
    "            self.shiftup(i)\n",
    "        return\n",
    "    def shiftup(self,i):\n",
    "        if (i == 0):\n",
    "            return\n",
    "        else:\n",
    "            if (self[i] <= self[(i-1)//2]):\n",
    "                return\n",
    "            else :\n",
    "                self[i],self[(i-1)//2] = self[(i-1)//2],self[i]\n",
    "                self.shiftup((i-1)//2)\n",
    "    def shiftdown(self,i,end):\n",
    "        leftChild = 2*i+1\n",
    "        rightChild = 2*i+2\n",
    "        if (leftChild > end):\n",
    "            return\n",
    "        elif (leftChild == end):\n",
    "            if (self[leftChild] > self[i]):\n",
    "                self[i],self[leftChild] = self[leftChild],self[i]\n",
    "            return\n",
    "        else:\n",
    "            if (self[i] < max(self[leftChild],self[rightChild])):\n",
    "                if self[leftChild] > self[rightChild]:\n",
    "                    self[i],self[leftChild] = self[leftChild],self[i]\n",
    "                    self.shiftdown(leftChild,end)\n",
    "                else:\n",
    "                    self[i],self[rightChild] = self[rightChild],self[i]\n",
    "                    self.shiftdown(rightChild,end)\n",
    "            return\n",
    "\n",
    "    def  quickSort(self,first,last):\n",
    "        \n",
    "        if (first >= last):\n",
    "            return\n",
    "        \n",
    "        pivot , left , right = self[first] , first + 1 , last\n",
    "        while (left < right):\n",
    "            while (left < right and self[left] < pivot):\n",
    "                left += 1\n",
    "            while (right > left and self[right] >= pivot):\n",
    "                right -= 1\n",
    "            self[left],self[right] = self[right],self[left]\n",
    "            \n",
    "        '''if (self[left] < pivot):\n",
    "            center = left\n",
    "        else:\n",
    "            center = left - 1'''\n",
    "        center = left if self[left] < pivot else left - 1\n",
    "        self[first],self[center] = self[center],self[first]\n",
    "        self.quickSort(first , center - 1)\n",
    "        self.quickSort(center + 1,last)\n",
    "        return\n",
    "    \n",
    "    def  quickSort_randint(self,first,last):\n",
    "        \n",
    "        if (first >= last):\n",
    "            return\n",
    "        pivot , left , right = self[random.randint(first+1,last-1)] , first + 1 , last\n",
    "        while (left < right):\n",
    "            while (left < right and self[left] < pivot):\n",
    "                left += 1\n",
    "            while (right > left and self[right] >= pivot):\n",
    "                right -= 1\n",
    "            self[left],self[right] = self[right],self[left]\n",
    "        center = left if self[left] < pivot else left - 1\n",
    "        self[first],self[center] = self[center],self[first]\n",
    "        self.quickSort(first , center - 1)\n",
    "        self.quickSort(center + 1,last)\n",
    "        return\n",
    "        \n",
    "    def heapSortNonRecur(x):\n",
    "        '''HeapSort Non-Recursive Version'''\n",
    "    \n",
    "        length = len(x)\n",
    "        if length <= 1:\n",
    "            return\n",
    "    \n",
    "        '''Heapify'''\n",
    "        for i in range(length):\n",
    "            j = i\n",
    "            while j > 0 and x[j] < x[(j-1)//2]:\n",
    "                x[j], x[(j-1)//2] = x[(j-1)//2], x[j]\n",
    "                j = (j-1)//2\n",
    "            \n",
    "        for i in range(length-1, 0, -1):\n",
    "            x[i], x[0] = x[0], x[i]\n",
    "        \n",
    "            '''Shift Down'''\n",
    "            j = 0\n",
    "            last = i-1\n",
    "            while j * 2 + 1 <= last: # as long as j has child\n",
    "                lc = j * 2 + 1\n",
    "                rc = j * 2 + 2\n",
    "                if lc == last: # There is only one child (left child)\n",
    "                    if x[j] > x[lc]:\n",
    "                        x[j], x[lc] = x[lc], x[j]\n",
    "                        j = lc\n",
    "                    else:\n",
    "                        break\n",
    "                else: # Consider both children\n",
    "                    if x[j] > min(x[lc], x[rc]):\n",
    "                        if x[lc] < x[rc]:\n",
    "                            x[j], x[lc] = x[lc], x[j]\n",
    "                            j = lc\n",
    "                        else:\n",
    "                            x[j], x[rc] = x[rc], x[j]\n",
    "                            j = rc\n",
    "                    else:\n",
    "                        break\n",
    "        return"
   ]
  },
  {
   "cell_type": "markdown",
   "metadata": {},
   "source": [
    "# The report of comparing different sort algroithms\n"
   ]
  },
  {
   "cell_type": "markdown",
   "metadata": {},
   "source": [
    "## Contents\n",
    "* .sort() in python\n",
    "* Selected sort\n",
    "* Bubble sort\n",
    "* Merge sort\n",
    "* Heap sort\n",
    "* Quick sort\n",
    "* Summary\n",
    "* Reference\n"
   ]
  },
  {
   "cell_type": "markdown",
   "metadata": {},
   "source": [
    "### .sort() in python"
   ]
  },
  {
   "cell_type": "code",
   "execution_count": 54,
   "metadata": {},
   "outputs": [
    {
     "name": "stdout",
     "output_type": "stream",
     "text": [
      "Cost time        (100):  0.0\n",
      "Cost time         (1K):  0.0\n",
      "Cost time        (10K):  0.0029561519622802734\n",
      "Cost time       (100K):  0.03191494941711426\n",
      "Cost time         (1M):  0.49255990982055664\n",
      "Cost time        (10M):  6.293714284896851\n",
      "Cost time(sorted 1M)  :  0.049854278564453125\n"
     ]
    }
   ],
   "source": [
    "\n",
    "random.seed(2018)\n",
    "testList = [random.randint(0, 100000) for i in range(100)]\n",
    "t = time.time()\n",
    "testList.sort()\n",
    "print(\"Cost time        (100): \", time.time()-t)\n",
    "testList = [random.randint(0, 100000) for i in range(1000)]\n",
    "t = time.time()\n",
    "testList.sort()\n",
    "print(\"Cost time         (1K): \", time.time()-t)\n",
    "testList = [random.randint(0, 100000) for i in range(10000)]\n",
    "t = time.time()\n",
    "testList.sort()\n",
    "print(\"Cost time        (10K): \", time.time()-t)\n",
    "testList = [random.randint(0, 100000) for i in range(100000)]\n",
    "t = time.time()\n",
    "testList.sort()\n",
    "print(\"Cost time       (100K): \", time.time()-t)\n",
    "sortedList = [random.randint(0, 100000) for i in range(1000000)]\n",
    "t = time.time()\n",
    "sortedList.sort()\n",
    "print(\"Cost time         (1M): \", time.time()-t)\n",
    "testList = [random.randint(0, 100000) for i in range(10000000)]\n",
    "t = time.time()\n",
    "testList.sort()\n",
    "print(\"Cost time        (10M): \", time.time()-t)\n",
    "\n",
    "t = time.time()\n",
    "sortedList.sort()\n",
    "print(\"Cost time(sorted 1M)  : \", time.time()-t)"
   ]
  },
  {
   "cell_type": "markdown",
   "metadata": {},
   "source": [
    "我使用了seed(2018)以確保每次被排序的數列都一樣，而已經排序好的數列我選擇1M"
   ]
  },
  {
   "cell_type": "markdown",
   "metadata": {},
   "source": [
    "### Selected sort\n",
    "Selection sort is another simple sorting method that works better than bubble sort It works by finding the smallest or highest element\n",
    "(most probably desired element) from the unsorted list and swaps with the first element\n",
    "in the sorted list and then finds the next smallest element from the unsorted\n",
    "list and swap with the second element in the sorted list.\n",
    "#### Explanation \n",
    "An arry of elements A [154, 126, 193, 117, 177, 131, 144, 155, 120]\n",
    "and sorting the array in ascending order using selection sort.\n",
    "![Alt text](https://upload.cc/i1/2018/10/02/SDeubr.png)\n",
    "In the above figure the algorithm finds the largest element in the list and swaps\n",
    "it with the appropriate position.The algorithm continues this operation until the list being sorted."
   ]
  },
  {
   "cell_type": "code",
   "execution_count": 4,
   "metadata": {},
   "outputs": [
    {
     "name": "stdout",
     "output_type": "stream",
     "text": [
      "Cost time        (100) :  0.001994609832763672\n",
      "Cost time        (1k)  :  0.14223885536193848\n",
      "Cost time        (10k) :  14.580124139785767\n"
     ]
    },
    {
     "data": {
      "text/plain": [
       "'sortedList.selectSort()\\nprint(\"Cost time(sorted 1M)   : \", time.time()-t)'"
      ]
     },
     "execution_count": 4,
     "metadata": {},
     "output_type": "execute_result"
    }
   ],
   "source": [
    "random.seed(2018)\n",
    "testList = NTHUList([random.randint(0, 100000) for i in range(100)])\n",
    "t = time.time()\n",
    "testList.selectSort()\n",
    "print(\"Cost time        (100) : \", time.time()-t)\n",
    "testList = NTHUList([random.randint(0, 100000) for i in range(1000)])\n",
    "t = time.time()\n",
    "testList.selectSort()\n",
    "print(\"Cost time        (1k)  : \", time.time()-t)\n",
    "testList = NTHUList([random.randint(0, 100000) for i in range(10000)])\n",
    "t = time.time()\n",
    "testList.selectSort()\n",
    "print(\"Cost time        (10k) : \", time.time()-t)\n",
    "'''testList = NTHUList([random.randint(0, 100000) for i in range(100000)])\n",
    "t = time.time()\n",
    "testList.selectSort()\n",
    "print(\"Cost time        (100k): \", time.time()-t)\n",
    "sortedList = NTHUList([random.randint(0, 100000) for i in range(1000000)])\n",
    "t = time.time()\n",
    "sortedList.selectSort()\n",
    "print(\"Cost time        (1M)  : \", time.time()-t)\n",
    "testList = NTHUList([random.randint(0, 100000) for i in range(10000000)])\n",
    "t = time.time()\n",
    "testList.selectSort()\n",
    "print(\"Cost time        (10M) : \", time.time()-t)\n",
    "t = time.time()'''\n",
    "'''sortedList.selectSort()\n",
    "print(\"Cost time(sorted 1M)   : \", time.time()-t)'''"
   ]
  },
  {
   "cell_type": "markdown",
   "metadata": {},
   "source": [
    "SelectSort當內容超過10k時，就會跑超過5分鐘，畢竟其為O(n^2)的演算法，當內容增加時其複雜度呈現指數成長，因此為一沒有效率的演算法"
   ]
  },
  {
   "cell_type": "markdown",
   "metadata": {},
   "source": [
    "### Bubble sort\n",
    "Bubble sort is a simple and the slowest sorting algorithm which works by comparing each element in the list with its neighboring elements and swapping them if they are in undesirable order.The algorithm continues this operation until it makes a pass right through the list without swapping any elements, which shows that the\n",
    "list is sorted. This process makes the algorithm works slower when the size of the input n increased. \n",
    "\n",
    "#### Explanation\n",
    "\n",
    "Consider an arry of elements A[5,7,3,1,0,7,2]  \n",
    "First pass:  \n",
    "[**5**,**7**,3,1,0,7,2] -> [**5**,**7**,3,1,0,7,2] Nothing changed in this step  \n",
    "Second pass:  \n",
    "[5,**7**,**3**,1,0,7,2] -> [5,**3**,**7**,1,0,7,2] Algorithm swap 3 and 7 seeing 7 > 3   \n",
    "[5,3,**7**,**1**,0,7,2] -> [5,3,**1**,**7**,0,7,2] Algorithm swap 1 and 7 seeing 7 > 1   \n",
    "[5,3,1,**7**,**0**,7,2] -> [5,3,1,**0**,**7**,7,2] Algorithm swap 0 and 7 seeing 7 > 0  \n",
    "[5,3,1,0,**7**,**7**,2] -> [5,3,1,0,**7**,**7**,2] Algorithm swap 7 and 7 seeing 7 = 7  \n",
    "[5,3,1,0,7,**7**,**2**] -> [5,3,1,0,7,**2**,**7**] Algorithm swap 2 and 7 seeing 7 > 2  \n",
    "The process contiune until the list been sorted."
   ]
  },
  {
   "cell_type": "code",
   "execution_count": 5,
   "metadata": {},
   "outputs": [
    {
     "name": "stdout",
     "output_type": "stream",
     "text": [
      "Cost time        (100) :  0.0009963512420654297\n",
      "Cost time        (1k)  :  0.10835027694702148\n",
      "Cost time        (10k) :  12.669689416885376\n"
     ]
    },
    {
     "data": {
      "text/plain": [
       "'t = time.time()\\ntestList.bubbleSort()\\nprint(\"Cost time        (100k): \", time.time()-t)\\nsortedList = NTHUList([random.randint(0, 100000) for i in range(1000000)])\\nt = time.time()\\nsortedList.bubbleSort()\\nprint(\"Cost time        (1M)  : \", time.time()-t)\\ntestList = NTHUList([random.randint(0, 100000) for i in range(10000000)])\\nt = time.time()\\ntestList.bubbleSort()\\nprint(\"Cost time        (10M) : \", time.time()-t)\\nt = time.time()\\nsortedList.bubbleSort()\\nprint(\"Cost time(sorted 1M)   : \", time.time()-t)'"
      ]
     },
     "execution_count": 5,
     "metadata": {},
     "output_type": "execute_result"
    }
   ],
   "source": [
    "random.seed(2018)\n",
    "testList = NTHUList([random.randint(0, 100000) for i in range(100)])\n",
    "t = time.time()\n",
    "testList.bubbleSort()\n",
    "print(\"Cost time        (100) : \", time.time()-t)\n",
    "testList = NTHUList([random.randint(0, 100000) for i in range(1000)])\n",
    "t = time.time()\n",
    "testList.bubbleSort()\n",
    "print(\"Cost time        (1k)  : \", time.time()-t)\n",
    "testList = NTHUList([random.randint(0, 100000) for i in range(10000)])\n",
    "t = time.time()\n",
    "testList.bubbleSort()\n",
    "print(\"Cost time        (10k) : \", time.time()-t)\n",
    "testList = NTHUList([random.randint(0, 100000) for i in range(100000)])\n",
    "'''t = time.time()\n",
    "testList.bubbleSort()\n",
    "print(\"Cost time        (100k): \", time.time()-t)\n",
    "sortedList = NTHUList([random.randint(0, 100000) for i in range(1000000)])\n",
    "t = time.time()\n",
    "sortedList.bubbleSort()\n",
    "print(\"Cost time        (1M)  : \", time.time()-t)\n",
    "testList = NTHUList([random.randint(0, 100000) for i in range(10000000)])\n",
    "t = time.time()\n",
    "testList.bubbleSort()\n",
    "print(\"Cost time        (10M) : \", time.time()-t)\n",
    "t = time.time()\n",
    "sortedList.bubbleSort()\n",
    "print(\"Cost time(sorted 1M)   : \", time.time()-t)'''"
   ]
  },
  {
   "cell_type": "markdown",
   "metadata": {},
   "source": []
  },
  {
   "cell_type": "markdown",
   "metadata": {},
   "source": [
    "### Merge sort\n",
    "Merge sort works by splitting the unsorted array into n sub array recursively until each sub\n",
    "array has 1 element.Consequently it merges each sub array to generate a final sorted array.\n",
    "#### Explation\n",
    "Consider a array of elements A [54, 26, 93, 17, 77, 31, 44, 55] and sorting the\n",
    "array into ascending order using merge sort.\n",
    "![Alt text](https://upload.cc/i1/2018/10/02/CigPuW.png)\n",
    "Merge sort divides the unsorted array into two equal sub arrays and repeats this operation until each sub array has 1 elements. Now each sub array considered\n",
    "to be sorted and the merging process proceeds. The merge operation scans the two\n",
    "sub array and finds the smallest element and thus removes the smallest element and\n",
    "placed in the final sorted sub array. This operation is repeated until there is only\n",
    "one sub array left. This sub array considered to be sorted."
   ]
  },
  {
   "cell_type": "code",
   "execution_count": 42,
   "metadata": {},
   "outputs": [
    {
     "name": "stdout",
     "output_type": "stream",
     "text": [
      "Cost time        (100) :  0.0\n",
      "Cost time        (1k)  :  0.0039882659912109375\n",
      "Cost time        (10k) :  0.049866676330566406\n",
      "Cost time        (100k):  0.629314661026001\n",
      "Cost time        (1M)  :  7.711877107620239\n",
      "Cost time        (10M) :  89.72606205940247\n",
      "Cost time(sorted 1M)   :  7.284044504165649\n"
     ]
    }
   ],
   "source": [
    "random.seed(2018)\n",
    "testList = NTHUList([random.randint(0, 100000) for i in range(100)])\n",
    "t = time.time()\n",
    "testList.mergeSort()\n",
    "print(\"Cost time        (100) : \", time.time()-t)\n",
    "testList = NTHUList([random.randint(0, 100000) for i in range(1000)])\n",
    "t = time.time()\n",
    "testList.mergeSort()\n",
    "print(\"Cost time        (1k)  : \", time.time()-t)\n",
    "testList = NTHUList([random.randint(0, 100000) for i in range(10000)])\n",
    "t = time.time()\n",
    "testList.mergeSort()\n",
    "print(\"Cost time        (10k) : \", time.time()-t)\n",
    "testList = NTHUList([random.randint(0, 100000) for i in range(100000)])\n",
    "t = time.time()\n",
    "testList.mergeSort()\n",
    "print(\"Cost time        (100k): \", time.time()-t)\n",
    "sortedList = NTHUList([random.randint(0, 100000) for i in range(1000000)])\n",
    "t = time.time()\n",
    "sortedList.mergeSort()\n",
    "print(\"Cost time        (1M)  : \", time.time()-t)\n",
    "testList = NTHUList([random.randint(0, 100000) for i in range(10000000)])\n",
    "t = time.time()\n",
    "testList.mergeSort()\n",
    "print(\"Cost time        (10M) : \", time.time()-t)\n",
    "t = time.time()\n",
    "sortedList.mergeSort()\n",
    "print(\"Cost time(sorted 1M)   : \", time.time()-t)"
   ]
  },
  {
   "cell_type": "markdown",
   "metadata": {},
   "source": [
    "Merge sort 使用 divide and conquer 的方法來實作，缺點是在使用上會需要額外的空間來處理"
   ]
  },
  {
   "cell_type": "markdown",
   "metadata": {},
   "source": [
    "### Heap sort\n",
    "In general, heap is a specialized tree based data structure that satisfies the heap\n",
    "property, mostly we use binary tree. The tree structure is well balanced, space\n",
    "efficient and fast. Heap sort works by building a heap from the input array and\n",
    "then removing the maximum element from the heap and placing it at the end of the\n",
    "final sorted array \n",
    "#### Explanation\n",
    "Let us consider an array of elements A [16, 14, 10, 8, 7, 9, 3, 2 4, 1] and sorting the\n",
    "array into ascending order using heap sort.\n",
    "![Alt text](https://upload.cc/i1/2018/10/02/dgPzGb.png)\n",
    " The algorithm removes the maximum element from the\n",
    "tree and placed in the rightmost position in the final sorted array. We can see each\n",
    "time when the maximum element is removed the tree restores its heap property.The heap property states that every node should has the higher value than its child\n",
    "node.The algorithm repeats this operation until the array being\n",
    "sorted. "
   ]
  },
  {
   "cell_type": "code",
   "execution_count": 43,
   "metadata": {},
   "outputs": [
    {
     "name": "stdout",
     "output_type": "stream",
     "text": [
      "Cost time        (100) :  0.000997781753540039\n",
      "Cost time        (1k)  :  0.012965917587280273\n",
      "Cost time        (10k) :  0.14165186882019043\n",
      "Cost time        (100k):  1.8234925270080566\n",
      "Cost time        (1M)  :  22.23289179801941\n",
      "Cost time        (10M) :  281.5308835506439\n",
      "Cost time(sorted 1M)   :  28.130272388458252\n"
     ]
    }
   ],
   "source": [
    "random.seed(2018)\n",
    "testList = NTHUList([random.randint(0, 100000) for i in range(100)])\n",
    "t = time.time()\n",
    "testList.heapSort()\n",
    "print(\"Cost time        (100) : \", time.time()-t)\n",
    "testList = NTHUList([random.randint(0, 100000) for i in range(1000)])\n",
    "t = time.time()\n",
    "testList.heapSort()\n",
    "print(\"Cost time        (1k)  : \", time.time()-t)\n",
    "testList = NTHUList([random.randint(0, 100000) for i in range(10000)])\n",
    "t = time.time()\n",
    "testList.heapSort()\n",
    "print(\"Cost time        (10k) : \", time.time()-t)\n",
    "testList = NTHUList([random.randint(0, 100000) for i in range(100000)])\n",
    "t = time.time()\n",
    "testList.heapSort()\n",
    "print(\"Cost time        (100k): \", time.time()-t)\n",
    "sortedList = NTHUList([random.randint(0, 100000) for i in range(1000000)])\n",
    "t = time.time()\n",
    "sortedList.heapSort()\n",
    "print(\"Cost time        (1M)  : \", time.time()-t)\n",
    "testList = NTHUList([random.randint(0, 100000) for i in range(10000000)])\n",
    "t = time.time()\n",
    "testList.heapSort()\n",
    "print(\"Cost time        (10M) : \", time.time()-t)\n",
    "t = time.time()\n",
    "sortedList.heapSort()\n",
    "print(\"Cost time(sorted 1M)   : \", time.time()-t)"
   ]
  },
  {
   "cell_type": "markdown",
   "metadata": {},
   "source": [
    "heap sort 以linked list 的方式儲存資料使其不需要額外記憶體做處裡，但為人詬病的是其速度相較於同複雜度的演算法，總是較慢，例如heap sort 和 merge sort 的複雜度雖然都是 nlogn 但是在此實驗中heap sort的時間明顯高於 merge sort ，我推測是因為heap sort 呼叫函式拖慢了速度"
   ]
  },
  {
   "cell_type": "markdown",
   "metadata": {},
   "source": [
    "### HeapSortNonRecur"
   ]
  },
  {
   "cell_type": "code",
   "execution_count": 5,
   "metadata": {},
   "outputs": [
    {
     "name": "stdout",
     "output_type": "stream",
     "text": [
      "Cost time        (100) :  0.0010046958923339844\n",
      "Cost time        (1k)  :  0.009971141815185547\n",
      "Cost time        (10k) :  0.12466883659362793\n",
      "Cost time        (100k):  1.874927282333374\n",
      "Cost time        (1M)  :  22.595292568206787\n",
      "Cost time        (10M) :  297.1841766834259\n",
      "Cost time(sorted 1M)   :  29.339892864227295\n"
     ]
    }
   ],
   "source": [
    "random.seed(2018)\n",
    "testList = NTHUList([random.randint(0, 100000) for i in range(100)])\n",
    "t = time.time()\n",
    "testList.heapSortNonRecur()\n",
    "print(\"Cost time        (100) : \", time.time()-t)\n",
    "testList = NTHUList([random.randint(0, 100000) for i in range(1000)])\n",
    "t = time.time()\n",
    "testList.heapSortNonRecur()\n",
    "print(\"Cost time        (1k)  : \", time.time()-t)\n",
    "testList = NTHUList([random.randint(0, 100000) for i in range(10000)])\n",
    "t = time.time()\n",
    "testList.heapSortNonRecur()\n",
    "print(\"Cost time        (10k) : \", time.time()-t)\n",
    "testList = NTHUList([random.randint(0, 100000) for i in range(100000)])\n",
    "t = time.time()\n",
    "testList.heapSortNonRecur()\n",
    "print(\"Cost time        (100k): \", time.time()-t)\n",
    "sortedList = NTHUList([random.randint(0, 100000) for i in range(1000000)])\n",
    "t = time.time()\n",
    "sortedList.heapSortNonRecur()\n",
    "print(\"Cost time        (1M)  : \", time.time()-t)\n",
    "testList = NTHUList([random.randint(0, 100000) for i in range(10000000)])\n",
    "t = time.time()\n",
    "testList.heapSortNonRecur()\n",
    "print(\"Cost time        (10M) : \", time.time()-t)\n",
    "t = time.time()\n",
    "sortedList.heapSortNonRecur()\n",
    "print(\"Cost time(sorted 1M)   : \", time.time()-t)"
   ]
  },
  {
   "cell_type": "markdown",
   "metadata": {},
   "source": [
    "### Quick sort\n",
    "Quick sort  is the fastest general purpose internal sorting algorithm on the average\n",
    "among other sophisticated algorithms. Unlike merge sort it does not require any\n",
    "additional memory space for sorting an array.It works by\n",
    "selecting elements from unsorted array named as a pivot and split the array into two\n",
    "parts called sub arrays and reconstruct the former part with the elements smaller\n",
    "than the pivot and the latter with elements larger than the pivot. This operation\n",
    "is called as partitioning. The algorithm repeats this operation recursively for both\n",
    "the sub arrays.\n",
    "#### Explanation\n",
    "Let us consider an array of elements A [3, 7, 8, 5, 2, 1, 9, 5, 4] and sorting the array\n",
    "into ascending order using quick sort.\n",
    "![Alt text](https://upload.cc/i1/2018/10/02/So3JaB.png)\n",
    "In the above figure, the algorithm first selects the random element as a pivot\n",
    "and hides the pivot in the next meanwhile it reconstructs the array with elements\n",
    "smaller than pivot in the left sub array, likewise elements larger than pivot in the\n",
    "right sub array. The algorithm repeats this operation until the array being sorted."
   ]
  },
  {
   "cell_type": "code",
   "execution_count": 51,
   "metadata": {},
   "outputs": [
    {
     "name": "stdout",
     "output_type": "stream",
     "text": [
      "Cost time        (100) :  0.0\n",
      "Cost time        (1k)  :  0.0029611587524414062\n",
      "Cost time        (10k) :  0.03989291191101074\n",
      "Cost time        (100k):  0.4735379219055176\n",
      "Cost time        (1M)  :  0.46468019485473633\n",
      "Cost time        (10M) :  136.33708143234253\n",
      "Cost time(sorted 1M)   :  7.2985029220581055\n"
     ]
    }
   ],
   "source": [
    "random.seed(2018)\n",
    "testList = NTHUList([random.randint(0, 100000) for i in range(100)])\n",
    "t = time.time()\n",
    "testList.quickSort(0,len(testList)-1)\n",
    "print(\"Cost time        (100) : \", time.time()-t)\n",
    "testList = NTHUList([random.randint(0, 100000) for i in range(1000)])\n",
    "t = time.time()\n",
    "testList.quickSort(0,len(testList)-1)\n",
    "print(\"Cost time        (1k)  : \", time.time()-t)\n",
    "testList = NTHUList([random.randint(0, 100000) for i in range(10000)])\n",
    "t = time.time()\n",
    "testList.quickSort(0,len(testList)-1)\n",
    "print(\"Cost time        (10k) : \", time.time()-t)\n",
    "testList = NTHUList([random.randint(0, 100000) for i in range(100000)])\n",
    "t = time.time()\n",
    "testList.quickSort(0,len(testList)-1)\n",
    "print(\"Cost time        (100k): \", time.time()-t)\n",
    "sortedList = NTHUList([random.randint(0, 100000) for i in range(1000000)])\n",
    "t = time.time()\n",
    "sortedList.quickSort(0,len(testList)-1)\n",
    "print(\"Cost time        (1M)  : \", time.time()-t)\n",
    "testList = NTHUList([random.randint(0, 100000) for i in range(10000000)])\n",
    "t = time.time()\n",
    "testList.quickSort(0,len(testList)-1)\n",
    "print(\"Cost time        (10M) : \", time.time()-t)\n",
    "t = time.time()\n",
    "sortedList.quickSort(0,len(sortedList)-1)\n",
    "print(\"Cost time(sorted 1M)   : \", time.time()-t)"
   ]
  },
  {
   "cell_type": "markdown",
   "metadata": {},
   "source": [
    "為了比較，我另外使用pivot 為隨機數版本"
   ]
  },
  {
   "cell_type": "code",
   "execution_count": 52,
   "metadata": {},
   "outputs": [
    {
     "name": "stdout",
     "output_type": "stream",
     "text": [
      "Cost time        (100) :  0.0\n",
      "Cost time        (1k)  :  0.0029871463775634766\n",
      "Cost time        (10k) :  0.040884971618652344\n",
      "Cost time        (100k):  0.5165872573852539\n",
      "Cost time        (1M)  :  0.45378637313842773\n",
      "Cost time        (10M) :  162.2275538444519\n",
      "Cost time(sorted 1M)   :  7.778953790664673\n"
     ]
    }
   ],
   "source": [
    "random.seed(2018)\n",
    "testList = NTHUList([random.randint(0, 100000) for i in range(100)])\n",
    "t = time.time()\n",
    "testList.quickSort_randint(0,len(testList)-1)\n",
    "print(\"Cost time        (100) : \", time.time()-t)\n",
    "testList = NTHUList([random.randint(0, 100000) for i in range(1000)])\n",
    "t = time.time()\n",
    "testList.quickSort_randint(0,len(testList)-1)\n",
    "print(\"Cost time        (1k)  : \", time.time()-t)\n",
    "testList = NTHUList([random.randint(0, 100000) for i in range(10000)])\n",
    "t = time.time()\n",
    "testList.quickSort_randint(0,len(testList)-1)\n",
    "print(\"Cost time        (10k) : \", time.time()-t)\n",
    "testList = NTHUList([random.randint(0, 100000) for i in range(100000)])\n",
    "t = time.time()\n",
    "testList.quickSort_randint(0,len(testList)-1)\n",
    "print(\"Cost time        (100k): \", time.time()-t)\n",
    "sortedList = NTHUList([random.randint(0, 100000) for i in range(1000000)])\n",
    "t = time.time()\n",
    "sortedList.quickSort_randint(0,len(testList)-1)\n",
    "print(\"Cost time        (1M)  : \", time.time()-t)\n",
    "testList = NTHUList([random.randint(0, 100000) for i in range(10000000)])\n",
    "t = time.time()\n",
    "testList.quickSort_randint(0,len(testList)-1)\n",
    "print(\"Cost time        (10M) : \", time.time()-t)\n",
    "t = time.time()\n",
    "sortedList.quickSort_randint(0,len(sortedList)-1)\n",
    "print(\"Cost time(sorted 1M)   : \", time.time()-t)"
   ]
  },
  {
   "cell_type": "markdown",
   "metadata": {},
   "source": [
    "## Summary\n",
    "可以看出bubble 和 selection 在data超過10K時基本跑不了，而表現最好的是python內建的sort()，我的推論是可能它有對python這個語言進行特別加強。heapsort的表現不如merge好，不過其不占記憶體的特性仍是不可忽視的。Quick sort 無疑問的為最快速的演算法，雖然他在10M時的表現不如merge，但我猜測這只是偶發的現象。我原本以為使用nonrecur version的 heapsort 會表現更加，但實驗似乎顯示recur version的更好。\n",
    "### 100\n",
    ".sort() in python&nbsp;&nbsp;&nbsp;&nbsp;&nbsp;&nbsp;&nbsp;&nbsp;&nbsp;             : 0.0 <br>\n",
    "selected sort&nbsp;&nbsp;&nbsp;&nbsp;&nbsp;&nbsp;&nbsp;&nbsp;&nbsp;&nbsp;           : 0.000997304916381836 <br>\n",
    "bubble sort&nbsp;&nbsp;&nbsp;&nbsp;&nbsp;&nbsp;&nbsp;&nbsp;&nbsp;&nbsp;&nbsp;       : 0.002026081085205078 <br>\n",
    "merge sort &nbsp;&nbsp;&nbsp;&nbsp;&nbsp;&nbsp;&nbsp;&nbsp;  &nbsp;&nbsp;           : 0.0 <br>\n",
    "heap sort &nbsp;&nbsp;&nbsp;&nbsp;&nbsp;&nbsp;&nbsp;&nbsp;&nbsp; &nbsp;&nbsp;&nbsp;: 0.000997781753540039 <br>\n",
    "heapSortNonRecur : 0.0010046958923339844 <br>\n",
    "quick sort&nbsp;&nbsp;&nbsp;&nbsp;&nbsp;&nbsp;&nbsp;&nbsp;&nbsp;&nbsp;&nbsp;&nbsp;&nbsp;&nbsp;&nbsp;&nbsp;&nbsp;: 0.0 <br>\n",
    "quick sort_randint&nbsp;                                                            : 0.0 <br>\n",
    "\n",
    "### 1K\n",
    ".sort() in python&nbsp;&nbsp;&nbsp;&nbsp;&nbsp;&nbsp;&nbsp;&nbsp;&nbsp;             : 0.0 <br>\n",
    "selected sort&nbsp;&nbsp;&nbsp;&nbsp;&nbsp;&nbsp;&nbsp;&nbsp;&nbsp;&nbsp;           : 0.1475822925567627 <br>\n",
    "bubble sort&nbsp;&nbsp;&nbsp;&nbsp;&nbsp;&nbsp;&nbsp;&nbsp;&nbsp;&nbsp;&nbsp;       : 0.13184523582458496 <br>\n",
    "merge sort &nbsp;&nbsp;&nbsp;&nbsp;&nbsp;&nbsp;&nbsp;&nbsp;  &nbsp;&nbsp;           : 0.0039882659912109375 <br>\n",
    "heap sort &nbsp;&nbsp;&nbsp;&nbsp;&nbsp;&nbsp;&nbsp;&nbsp;&nbsp; &nbsp;&nbsp;&nbsp;: 0.012965917587280273 <br>\n",
    "heapSortNonRecur : 0.009971141815185547 <br>\n",
    "quick sort&nbsp;&nbsp;&nbsp;&nbsp;&nbsp;&nbsp;&nbsp;&nbsp;&nbsp;&nbsp;&nbsp;&nbsp;&nbsp;&nbsp;&nbsp;&nbsp;&nbsp;: 0.0029611587524414062 <br>\n",
    "quick sort_randint&nbsp;                                                            : 0.0029871463775634766 <br>\n",
    "### 10K\n",
    ".sort() in python&nbsp;&nbsp;&nbsp;&nbsp;&nbsp;&nbsp;&nbsp;&nbsp;&nbsp;             : 0.0020017623901367188 <br>\n",
    "selected sort&nbsp;&nbsp;&nbsp;&nbsp;&nbsp;&nbsp;&nbsp;&nbsp;&nbsp;&nbsp;           : 14.949881315231323 <br>\n",
    "bubble sort&nbsp;&nbsp;&nbsp;&nbsp;&nbsp;&nbsp;&nbsp;&nbsp;&nbsp;&nbsp;&nbsp;       : 14.510718822479248 <br>\n",
    "merge sort &nbsp;&nbsp;&nbsp;&nbsp;&nbsp;&nbsp;&nbsp;&nbsp;  &nbsp;&nbsp;           :  0.049866676330566406 <br>\n",
    "heap sort &nbsp;&nbsp;&nbsp;&nbsp;&nbsp;&nbsp;&nbsp;&nbsp;&nbsp; &nbsp;&nbsp;&nbsp;:  0.14165186882019043 <br>\n",
    "heapSortNonRecur : 0.12466883659362793 <br>\n",
    "quick sort&nbsp;&nbsp;&nbsp;&nbsp;&nbsp;&nbsp;&nbsp;&nbsp;&nbsp;&nbsp;&nbsp;&nbsp;&nbsp;&nbsp;&nbsp;&nbsp;&nbsp;: 0.03989291191101074 <br>\n",
    "quick sort_randint&nbsp;    :   0.040884971618652344\n",
    "### 100K\n",
    ".sort() in python&nbsp;&nbsp;&nbsp;&nbsp;&nbsp;&nbsp;&nbsp;&nbsp;&nbsp;             : 0.028922557830810547 <br>\n",
    "selected sort&nbsp;&nbsp;&nbsp;&nbsp;&nbsp;&nbsp;&nbsp;&nbsp;&nbsp;&nbsp;           : RT <br>\n",
    "bubble sort&nbsp;&nbsp;&nbsp;&nbsp;&nbsp;&nbsp;&nbsp;&nbsp;&nbsp;&nbsp;&nbsp;       : RT <br>\n",
    "merge sort &nbsp;&nbsp;&nbsp;&nbsp;&nbsp;&nbsp;&nbsp;&nbsp;  &nbsp;&nbsp;           : 0.629314661026001 <br>\n",
    "heap sort &nbsp;&nbsp;&nbsp;&nbsp;&nbsp;&nbsp;&nbsp;&nbsp;&nbsp; &nbsp;&nbsp;&nbsp;:  1.8234925270080566 <br>\n",
    "heapSortNonRecur : 1.874927282333374 <br>\n",
    "quick sort&nbsp;&nbsp;&nbsp;&nbsp;&nbsp;&nbsp;&nbsp;&nbsp;&nbsp;&nbsp;&nbsp;&nbsp;&nbsp;&nbsp;&nbsp;&nbsp;&nbsp;: 0.4735379219055176 <br>\n",
    "quick sort_randint&nbsp;    :   0.5165872573852539\n",
    "### 1M\n",
    ".sort() in python&nbsp;&nbsp;&nbsp;&nbsp;&nbsp;&nbsp;&nbsp;&nbsp;&nbsp;             : 0.4721090793609619 <br>\n",
    "selected sort&nbsp;&nbsp;&nbsp;&nbsp;&nbsp;&nbsp;&nbsp;&nbsp;&nbsp;&nbsp;           : RT <br>\n",
    "bubble sort&nbsp;&nbsp;&nbsp;&nbsp;&nbsp;&nbsp;&nbsp;&nbsp;&nbsp;&nbsp;&nbsp;       : RT <br>\n",
    "merge sort &nbsp;&nbsp;&nbsp;&nbsp;&nbsp;&nbsp;&nbsp;&nbsp;  &nbsp;&nbsp;           : 7.711877107620239 <br>\n",
    "heap sort &nbsp;&nbsp;&nbsp;&nbsp;&nbsp;&nbsp;&nbsp;&nbsp;&nbsp; &nbsp;&nbsp;&nbsp;:  22.23289179801941 <br>\n",
    "heapSortNonRecur : 22.595292568206787 <br>\n",
    "quick sort&nbsp;&nbsp;&nbsp;&nbsp;&nbsp;&nbsp;&nbsp;&nbsp;&nbsp;&nbsp;&nbsp;&nbsp;&nbsp;&nbsp;&nbsp;&nbsp;&nbsp;: 0.46468019485473633 <br>\n",
    "quick sort_randint&nbsp;    :    0.45378637313842773\n",
    "### 10M\n",
    ".sort() in python&nbsp;&nbsp;&nbsp;&nbsp;&nbsp;&nbsp;&nbsp;&nbsp;&nbsp;             : 5.860732555389404<br>\n",
    "selected sort&nbsp;&nbsp;&nbsp;&nbsp;&nbsp;&nbsp;&nbsp;&nbsp;&nbsp;&nbsp;           : RT <br>\n",
    "bubble sort&nbsp;&nbsp;&nbsp;&nbsp;&nbsp;&nbsp;&nbsp;&nbsp;&nbsp;&nbsp;&nbsp;       : RT <br>\n",
    "merge sort &nbsp;&nbsp;&nbsp;&nbsp;&nbsp;&nbsp;&nbsp;&nbsp;  &nbsp;&nbsp;           : 89.72606205940247 <br>\n",
    "heap sort &nbsp;&nbsp;&nbsp;&nbsp;&nbsp;&nbsp;&nbsp;&nbsp;&nbsp; &nbsp;&nbsp;&nbsp;:  281.5308835506439 <br>\n",
    "heapSortNonRecur: 297.1841766834259 <br>\n",
    "quick sort&nbsp;&nbsp;&nbsp;&nbsp;&nbsp;&nbsp;&nbsp;&nbsp;&nbsp;&nbsp;&nbsp;&nbsp;&nbsp;&nbsp;&nbsp;&nbsp;&nbsp;: 136.33708143234253 <br>\n",
    "quick sort_randint&nbsp;    :    162.2275538444519\n",
    "### sorted\n",
    ".sort() in python&nbsp;&nbsp;&nbsp;&nbsp;&nbsp;&nbsp;&nbsp;&nbsp;&nbsp;             : 0.04919028282165527<br>\n",
    "selected sort&nbsp;&nbsp;&nbsp;&nbsp;&nbsp;&nbsp;&nbsp;&nbsp;&nbsp;&nbsp;           : RT <br>\n",
    "bubble sort&nbsp;&nbsp;&nbsp;&nbsp;&nbsp;&nbsp;&nbsp;&nbsp;&nbsp;&nbsp;&nbsp;       : RT <br>\n",
    "merge sort &nbsp;&nbsp;&nbsp;&nbsp;&nbsp;&nbsp;&nbsp;&nbsp;  &nbsp;&nbsp;           : 7.284044504165649 <br>\n",
    "heap sort &nbsp;&nbsp;&nbsp;&nbsp;&nbsp;&nbsp;&nbsp;&nbsp;&nbsp; &nbsp;&nbsp;&nbsp;:  28.130272388458252 <br>\n",
    "heapSortNonRecur : 29.339892864227295 <br>\n",
    "quick sort&nbsp;&nbsp;&nbsp;&nbsp;&nbsp;&nbsp;&nbsp;&nbsp;&nbsp;&nbsp;&nbsp;&nbsp;&nbsp;&nbsp;&nbsp;&nbsp;&nbsp;: 7.2985029220581055 <br>\n",
    "quick sort_randint&nbsp;    :    7.778953790664673\n",
    "\n",
    "Note : RT 表示時間過久\n",
    "\n",
    "## Reference\n",
    "Ashok Kumar Karunanithi(2014)。A Survey, Discussion and Comparison of Sorting Algorithms。\n"
   ]
  },
  {
   "cell_type": "code",
   "execution_count": null,
   "metadata": {},
   "outputs": [],
   "source": []
  }
 ],
 "metadata": {
  "kernelspec": {
   "display_name": "Python 3",
   "language": "python",
   "name": "python3"
  },
  "language_info": {
   "codemirror_mode": {
    "name": "ipython",
    "version": 3
   },
   "file_extension": ".py",
   "mimetype": "text/x-python",
   "name": "python",
   "nbconvert_exporter": "python",
   "pygments_lexer": "ipython3",
   "version": "3.6.4"
  }
 },
 "nbformat": 4,
 "nbformat_minor": 2
}
