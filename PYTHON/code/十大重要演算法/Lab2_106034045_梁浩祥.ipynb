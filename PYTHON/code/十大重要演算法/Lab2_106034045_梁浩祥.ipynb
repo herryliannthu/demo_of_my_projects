{
 "cells": [
  {
   "cell_type": "markdown",
   "metadata": {},
   "source": [
    "#### 1. Longest Common Subsequence\n",
    "#### 2. Chain Matrix Multiplication\n",
    "#### 3. Text Justification\n",
    "#### 4. Your Choice of Problem (not Fibanacci nor edit distance)\n",
    "\n",
    "#### Straight forward brute-force Approach\n",
    "#### Dictinary-based Approach\n",
    "#### Array-based Approach"
   ]
  },
  {
   "cell_type": "markdown",
   "metadata": {},
   "source": [
    "#### 1. Longest Common Subsequence"
   ]
  },
  {
   "cell_type": "code",
   "execution_count": 18,
   "metadata": {},
   "outputs": [
    {
     "name": "stdout",
     "output_type": "stream",
     "text": [
      "U\n",
      "T\n",
      "N\n",
      "N\n",
      "N\n",
      "N\n",
      "[[0 0 0 0 0]\n",
      " [0 1 1 1 1]\n",
      " [0 1 1 2 2]\n",
      " [0 1 1 2 2]\n",
      " [0 1 1 2 3]]\n",
      "{'0-3': 0, '0-2': 0, '0-0': 0, '1-1': 1, '1-2': 1, '1-3': 1, '2-0': 0, '2-1': 1, '2-2': 1, '2-3': 1, '3-2': 2, '3-3': 2, '4-4': 3}\n"
     ]
    }
   ],
   "source": [
    "import numpy as np\n",
    "def LCS_brute(x,y):\n",
    "    if (len(x) == 0 or len(y) == 0):\n",
    "        return 0\n",
    "    elif (x[-1] == y[-1]):\n",
    "        print (x[-1])\n",
    "        return 1 + LCS_brute(x[:-1],y[:-1])\n",
    "    else:\n",
    "        return max(LCS_brute(x[:-1],y),LCS_brute(x,y[:-1]))\n",
    "            \n",
    "                \n",
    "    \n",
    "def LCS_dis(x,y,d):\n",
    "    key = str(len(x))+\"-\"+str(len(y))\n",
    "    if (key in d):\n",
    "        return d[key]\n",
    "    elif (len(x)==0 or len(y)==0):\n",
    "        d[key]=0\n",
    "        return d[key]\n",
    "    elif (x[0]==y[0]):\n",
    "        ans = 1 + LCS_dis(x[1:],y[1:],d)\n",
    "        d[key] = ans\n",
    "        return d[key]\n",
    "    else:\n",
    "        ans = max(LCS_dis(x[1:],y,d),LCS_dis(x,y[1:],d))\n",
    "        d[key] = ans\n",
    "        return d[key]\n",
    "        \n",
    "    \n",
    "\n",
    "def LCS_array(x,y):\n",
    "    num_r = len(x)+1\n",
    "    num_c = len(y)+1\n",
    "    a = np.zeros((num_r, num_c), dtype=int)\n",
    "    for r in range(1, num_r):\n",
    "        for c in range(1, num_c):\n",
    "            if x[r-1] == y[c-1]:\n",
    "                a[r, c] = a[r-1, c-1] + 1\n",
    "            else:\n",
    "                a[r, c] = max(a[r-1, c], a[r, c-1])\n",
    "    print (a)\n",
    "    return a[-1, -1]\n",
    "a = \"ASDFGHJKLZXCVBNM\"\n",
    "b = \"ZXCVBNMASDFGHJKL\"\n",
    "a = \"NTHU\"\n",
    "b = \"NCTU\"\n",
    "\n",
    "d = {}\n",
    "LCS_dis(a,b,d)\n",
    "LCS_brute(a,b)\n",
    "LCS_array(a,b)\n",
    "print (d)"
   ]
  },
  {
   "cell_type": "markdown",
   "metadata": {},
   "source": [
    "#### 2. Chain Matrix Multiplication"
   ]
  },
  {
   "cell_type": "code",
   "execution_count": 29,
   "metadata": {},
   "outputs": [
    {
     "name": "stdout",
     "output_type": "stream",
     "text": [
      "15\n"
     ]
    },
    {
     "data": {
      "text/plain": [
       "15"
      ]
     },
     "execution_count": 29,
     "metadata": {},
     "output_type": "execute_result"
    }
   ],
   "source": [
    "import sys\n",
    "def MCM_brute(chain):\n",
    "    if len(chain) <= 1: \n",
    "        return 0\n",
    "    _min = sys.maxsize \n",
    "    for k in range(1,len(chain)):\n",
    "        count = (MCM_brute(chain[:k])  \n",
    "             + MCM_brute(chain[k:]) \n",
    "                   + chain[0][0] * chain[k-1][1] * chain[-1][1]) \n",
    "        if count < _min: \n",
    "            _min = count\n",
    "    return _min\n",
    "                \n",
    "    \n",
    "def MCM_dis(chain):\n",
    "    n=len(chain)\n",
    "    a = {}\n",
    "    for i in range(n):\n",
    "        for j in range(n):\n",
    "            a[str(i)+\"-\"+str(j)] = 0\n",
    "    for length in range(2, n):     \n",
    "        for i in range(1, n - length + 1):\n",
    "            j = i + length - 1\n",
    "            a[str(i)+\"-\"+str(j)] = sys.maxsize\n",
    "            for k in range(i, j):   \n",
    "                count = a[str(i)+\"-\"+str(k)] + a[str(k+1)+\"-\"+str(j)] + chain[i-1]*chain[k]*chain[j]\n",
    "                if(count < a[str(i)+\"-\"+str(j)]):    \n",
    "                    a[str(i)+\"-\"+str(j)] = count\n",
    "    return  a[str(i)+\"-\"+str(j)] \n",
    "    \n",
    "    \n",
    "\n",
    "def MCM_array(chain):\n",
    "    n=len(chain)\n",
    "    m = [ [ 0 for i in range(n) ] for i in range(n) ]\n",
    "    \n",
    "    for i in range(1, n):     \n",
    "        m[i][i] = 0\n",
    "        \n",
    "    for length in range(2, n):     \n",
    "        for i in range(1, n - length + 1):\n",
    "            j = i + length - 1\n",
    "            m[i][j] = sys.maxsize\n",
    "            for k in range(i, j):   \n",
    "                count = m[i][k] + m[k+1][j] + chain[i-1]*chain[k]*chain[j]\n",
    "                if(count < m[i][j]):    \n",
    "                    m[i][j] = count\n",
    "    return m[1][n-1]\n",
    "\n",
    "ch = [(1,10),(10,1),(1,5)]\n",
    "print (MCM_brute(ch))\n",
    "ch = [1,10,1,5]\n",
    "MCM_dis(ch)"
   ]
  },
  {
   "cell_type": "markdown",
   "metadata": {},
   "source": [
    "#### 3. Text Justification"
   ]
  },
  {
   "cell_type": "code",
   "execution_count": 40,
   "metadata": {},
   "outputs": [
    {
     "name": "stdout",
     "output_type": "stream",
     "text": [
      "0-11\n",
      "1-11\n",
      "2-11\n",
      "3-11\n",
      "4-11\n",
      "5-11\n",
      "6-11\n",
      "7-11\n",
      "8-11\n",
      "9-11\n",
      "10-11\n",
      "11-11\n",
      "12-11\n",
      "It was the worst\n",
      "of time. It was\n",
      "the best of time.\n"
     ]
    },
    {
     "data": {
      "text/plain": [
       "[50, 81, 129, 185, 34, 65, 149, 208, 9, 49, 144, 225, 0]"
      ]
     },
     "execution_count": 40,
     "metadata": {},
     "output_type": "execute_result"
    }
   ],
   "source": [
    "\n",
    "def TJ_brute(tl,lw):\n",
    "    if (len(tl) == 0):\n",
    "        return 0\n",
    "    elif (len(tl) == 1):\n",
    "        return (lw - len(tl[0]))**2\n",
    "    else:\n",
    "        usage = len(tl[0])\n",
    "        waste = [(lw - usage)**2]\n",
    "        maxwords = 1\n",
    "        while (not maxwords == len(tl)  and  usage + 1 + len(tl[maxwords]) <= lw):\n",
    "            usage += 1 + len(tl[maxwords])\n",
    "            waste.append((lw - usage)**2)\n",
    "            maxwords += 1\n",
    "            \n",
    "    return min(waste[i] + TJ_brute(tl[i+1:],lw) for i in range(maxwords))\n",
    "    \n",
    "def TJ_dis(tl,lw,d,i,j):\n",
    "    key = str(i) + \"-\" + str(j)\n",
    "    if key in d:\n",
    "        return d[key]\n",
    "    print(key)\n",
    "    if i > j:\n",
    "        d[key] = 0\n",
    "        return d[key]\n",
    "    elif i == j:\n",
    "        d[key] = (lw - len(tl[0])) ** 2\n",
    "        return d[key]  # '''if lineWidth < text, won't be captured'''\n",
    "    else:\n",
    "        usage = 0\n",
    "        waste = 0\n",
    "        maxwords = 0\n",
    "        \n",
    "        while (i + maxwords <= j and\n",
    "               usage + len(tl[i + maxwords]) <= lw):  # 排得下才來排\n",
    "            if usage == 0:\n",
    "                usage = len(tl[i])\n",
    "                waste = [(lw-usage)**2]\n",
    "                maxwords = 1\n",
    "            else:\n",
    "                usage = usage + 1 + len(tl[i + maxwords])  # 不能只有放字, 還要空格\n",
    "                waste.append((lw-usage)**2)\n",
    "                maxwords += 1  # 前進一個字\n",
    "        \n",
    "        d[key] = min([waste[k] + TJ_dis(tl, lw, d, i+k+1, j) for k in range(maxwords)])\n",
    "        return d[key]\n",
    "        \n",
    "\n",
    "def usage(wl, start, end):\n",
    "    word_use = 0\n",
    "    for i in range(start, end+1):\n",
    "        word_use += len(wl[i])\n",
    "    word_use += end - start\n",
    "    return word_use\n",
    "\n",
    "def TJ_array(tl, lw):\n",
    "    N = len(tl) \n",
    "    sol_list = [-99999 for i in range(N)]\n",
    "    sol_list.append(0)\n",
    "    for i in range(N-1, -1, -1):    \n",
    "        j = i\n",
    "        curr_cost = 0\n",
    "        min_cost = 99999\n",
    "        while (j <= N-1 and usage(tl, i, j) <= lw):\n",
    "            curr_cost = (lw-usage(tl, i, j))**2 + sol_list[j+1]\n",
    "            if curr_cost < min_cost:\n",
    "                min_cost = curr_cost\n",
    "            j += 1      # for a space after a word\n",
    "            sol_list[i] = min_cost\n",
    "    for i in range(0, N-1):\n",
    "        if(sol_list[i] <= sol_list[i+1]):\n",
    "            print(tl[i], end=\" \")\n",
    "        else:\n",
    "            print(tl[i])\n",
    "    print(tl[N-1])\n",
    "    return sol_list\n",
    "\n",
    "d = {}\n",
    "t = 'It was the worst of time. It was the best of time.'\n",
    "textList = t.split()\n",
    "TJ_brute(textList,20)\n",
    "TJ_dis(textList,20,d,0,len(textList)-1)\n",
    "TJ_array(textList,20)"
   ]
  },
  {
   "cell_type": "markdown",
   "metadata": {},
   "source": [
    "#### 4. Knapsack Problem"
   ]
  },
  {
   "cell_type": "code",
   "execution_count": 53,
   "metadata": {},
   "outputs": [
    {
     "name": "stdout",
     "output_type": "stream",
     "text": [
      "{'(1, 1100)-(2, 2250)-(5, 5700)-(4, 4500)-': 1100, '(2, 2250)-(5, 5700)-(4, 4500)-': 3350, '(5, 5700)-(4, 4500)-': 9050, '(4, 4500)-': 9050}\n"
     ]
    }
   ],
   "source": [
    "def KP_brute(n,w):\n",
    "    length = len(n)\n",
    "    if (length == 0 or w == 0):\n",
    "        return 0\n",
    "    if (n[0][0] > w):\n",
    "        return KP_brute(n[1:],w)\n",
    "    else:\n",
    "        return max(KP_brute(n[1:],w-n[0][0]) + n[0][1] ,KP_brute(n[1:],w))\n",
    "    \n",
    "\n",
    "def KP_dis(n,w,b,pre_key):\n",
    "    length = len(n)\n",
    "    if (length == 0 or w ==0):\n",
    "        return 0\n",
    "    key = str(n[0]) + \"-\" + pre_key\n",
    "    if (key in b):\n",
    "        return b[key]\n",
    "    elif (n[0][0] > w):\n",
    "        return KP_dis(n[1:],w,b,key)\n",
    "    else:\n",
    "        b[key] = max(KP_dis(n[1:],w-n[0][0],b,key) + n[0][1]\n",
    "                                  ,KP_dis(n[1:],w,b,key))\n",
    "        return b[key]\n",
    "    \n",
    "\n",
    "def KP_array(n,w,a):\n",
    "    length = len(n)\n",
    "    if (a[length][w] and a[length][w] != 0):\n",
    "        return a[length][w]\n",
    "    if (length == 0 or w == 0):\n",
    "        return 0\n",
    "    if (n[0][0] > w):\n",
    "        return KP_array(n[1:],w,a)\n",
    "    else:\n",
    "        a[length][w] = max(KP_array(n[1:],w-n[0][0],a) + n[0][1]\n",
    "                                  ,KP_array(n[1:],w,a))\n",
    "        return a[length][w]\n",
    "\n",
    "item = [(4,4500),(5,5700),(2,2250),(1,1100),(6,6700)] \n",
    "weight = 8\n",
    "b = {}\n",
    "#print (KP_brute(item,8))\n",
    "#a = [[0 for i in range((weight+1)) ] for i in range((len(item)+1))]\n",
    "KP_dis(item,weight,b,\"\")\n",
    "print(b)"
   ]
  },
  {
   "cell_type": "code",
   "execution_count": null,
   "metadata": {},
   "outputs": [],
   "source": []
  }
 ],
 "metadata": {
  "kernelspec": {
   "display_name": "Python 3",
   "language": "python",
   "name": "python3"
  },
  "language_info": {
   "codemirror_mode": {
    "name": "ipython",
    "version": 3
   },
   "file_extension": ".py",
   "mimetype": "text/x-python",
   "name": "python",
   "nbconvert_exporter": "python",
   "pygments_lexer": "ipython3",
   "version": "3.6.4"
  }
 },
 "nbformat": 4,
 "nbformat_minor": 2
}
